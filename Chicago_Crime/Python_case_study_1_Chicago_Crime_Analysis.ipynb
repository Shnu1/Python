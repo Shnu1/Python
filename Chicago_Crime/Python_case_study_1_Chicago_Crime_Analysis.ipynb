{
 "cells": [
  {
   "cell_type": "code",
   "execution_count": 1,
   "metadata": {
    "collapsed": false
   },
   "outputs": [
    {
     "name": "stderr",
     "output_type": "stream",
     "text": [
      "/Users/vishnu_mamidipudi/anaconda/envs/py35/lib/python3.5/site-packages/IPython/html.py:14: ShimWarning: The `IPython.html` package has been deprecated. You should import from `notebook` instead. `IPython.html.widgets` has moved to `ipywidgets`.\n",
      "  \"`IPython.html.widgets` has moved to `ipywidgets`.\", ShimWarning)\n"
     ]
    }
   ],
   "source": [
    "########## Chicago Crime Analysis #################\n",
    "# Import the packages required\n",
    "import pandas as pd\n",
    "import numpy as np\n",
    "import matplotlib.pyplot as plt\n",
    "import seaborn as sns\n",
    "import matplotlib.style as style\n"
   ]
  },
  {
   "cell_type": "code",
   "execution_count": 2,
   "metadata": {
    "collapsed": true
   },
   "outputs": [],
   "source": [
    "# Load the data \n",
    "chicago_crime = pd.read_csv(\"/Users/vishnu_mamidipudi/Documents/Big_Data/DataCamp/Python/Chicago_Crime/Crimes_2017.csv\")"
   ]
  },
  {
   "cell_type": "code",
   "execution_count": 3,
   "metadata": {
    "collapsed": false
   },
   "outputs": [
    {
     "name": "stdout",
     "output_type": "stream",
     "text": [
      "<class 'pandas.core.frame.DataFrame'>\n",
      "RangeIndex: 39065 entries, 0 to 39064\n",
      "Data columns (total 22 columns):\n",
      "ID                      39065 non-null int64\n",
      "Case Number             39065 non-null object\n",
      "Date                    39065 non-null object\n",
      "Block                   39065 non-null object\n",
      "IUCR                    39065 non-null object\n",
      "Primary Type            39065 non-null object\n",
      "Description             39065 non-null object\n",
      "Location Description    38948 non-null object\n",
      "Arrest                  39065 non-null bool\n",
      "Domestic                39065 non-null bool\n",
      "Beat                    39065 non-null int64\n",
      "District                39065 non-null int64\n",
      "Ward                    39065 non-null int64\n",
      "Community Area          39065 non-null int64\n",
      "FBI Code                39065 non-null object\n",
      "X Coordinate            38292 non-null float64\n",
      "Y Coordinate            38292 non-null float64\n",
      "Year                    39065 non-null int64\n",
      "Updated On              39065 non-null object\n",
      "Latitude                38292 non-null float64\n",
      "Longitude               38292 non-null float64\n",
      "Location                38292 non-null object\n",
      "dtypes: bool(2), float64(4), int64(6), object(10)\n",
      "memory usage: 6.0+ MB\n"
     ]
    }
   ],
   "source": [
    "chicago_crime.info()"
   ]
  },
  {
   "cell_type": "code",
   "execution_count": 4,
   "metadata": {
    "collapsed": false
   },
   "outputs": [
    {
     "data": {
      "text/html": [
       "<div>\n",
       "<style>\n",
       "    .dataframe thead tr:only-child th {\n",
       "        text-align: right;\n",
       "    }\n",
       "\n",
       "    .dataframe thead th {\n",
       "        text-align: left;\n",
       "    }\n",
       "\n",
       "    .dataframe tbody tr th {\n",
       "        vertical-align: top;\n",
       "    }\n",
       "</style>\n",
       "<table border=\"1\" class=\"dataframe\">\n",
       "  <thead>\n",
       "    <tr style=\"text-align: right;\">\n",
       "      <th></th>\n",
       "      <th>ID</th>\n",
       "      <th>Case Number</th>\n",
       "      <th>Date</th>\n",
       "      <th>Block</th>\n",
       "      <th>IUCR</th>\n",
       "      <th>Primary Type</th>\n",
       "      <th>Description</th>\n",
       "      <th>Location Description</th>\n",
       "      <th>Arrest</th>\n",
       "      <th>Domestic</th>\n",
       "      <th>...</th>\n",
       "      <th>Ward</th>\n",
       "      <th>Community Area</th>\n",
       "      <th>FBI Code</th>\n",
       "      <th>X Coordinate</th>\n",
       "      <th>Y Coordinate</th>\n",
       "      <th>Year</th>\n",
       "      <th>Updated On</th>\n",
       "      <th>Latitude</th>\n",
       "      <th>Longitude</th>\n",
       "      <th>Location</th>\n",
       "    </tr>\n",
       "  </thead>\n",
       "  <tbody>\n",
       "    <tr>\n",
       "      <th>0</th>\n",
       "      <td>10887077</td>\n",
       "      <td>JA196832</td>\n",
       "      <td>01/01/2017 12:01:00 AM</td>\n",
       "      <td>073XX N OAKLEY AVE</td>\n",
       "      <td>1751</td>\n",
       "      <td>OFFENSE INVOLVING CHILDREN</td>\n",
       "      <td>CRIM SEX ABUSE BY FAM MEMBER</td>\n",
       "      <td>RESIDENCE</td>\n",
       "      <td>False</td>\n",
       "      <td>False</td>\n",
       "      <td>...</td>\n",
       "      <td>49</td>\n",
       "      <td>2</td>\n",
       "      <td>20</td>\n",
       "      <td>NaN</td>\n",
       "      <td>NaN</td>\n",
       "      <td>2017</td>\n",
       "      <td>03/23/2017 03:53:53 PM</td>\n",
       "      <td>NaN</td>\n",
       "      <td>NaN</td>\n",
       "      <td>NaN</td>\n",
       "    </tr>\n",
       "    <tr>\n",
       "      <th>1</th>\n",
       "      <td>10883971</td>\n",
       "      <td>JA193683</td>\n",
       "      <td>01/01/2017 12:01:00 AM</td>\n",
       "      <td>0000X E 103RD PL</td>\n",
       "      <td>0281</td>\n",
       "      <td>CRIM SEXUAL ASSAULT</td>\n",
       "      <td>NON-AGGRAVATED</td>\n",
       "      <td>RESIDENCE</td>\n",
       "      <td>False</td>\n",
       "      <td>False</td>\n",
       "      <td>...</td>\n",
       "      <td>9</td>\n",
       "      <td>49</td>\n",
       "      <td>02</td>\n",
       "      <td>NaN</td>\n",
       "      <td>NaN</td>\n",
       "      <td>2017</td>\n",
       "      <td>03/21/2017 03:50:39 PM</td>\n",
       "      <td>NaN</td>\n",
       "      <td>NaN</td>\n",
       "      <td>NaN</td>\n",
       "    </tr>\n",
       "    <tr>\n",
       "      <th>2</th>\n",
       "      <td>10883969</td>\n",
       "      <td>JA193696</td>\n",
       "      <td>01/01/2017 12:01:00 AM</td>\n",
       "      <td>075XX S KINGSTON AVE</td>\n",
       "      <td>1751</td>\n",
       "      <td>OFFENSE INVOLVING CHILDREN</td>\n",
       "      <td>CRIM SEX ABUSE BY FAM MEMBER</td>\n",
       "      <td>APARTMENT</td>\n",
       "      <td>False</td>\n",
       "      <td>False</td>\n",
       "      <td>...</td>\n",
       "      <td>7</td>\n",
       "      <td>43</td>\n",
       "      <td>20</td>\n",
       "      <td>NaN</td>\n",
       "      <td>NaN</td>\n",
       "      <td>2017</td>\n",
       "      <td>03/21/2017 03:50:39 PM</td>\n",
       "      <td>NaN</td>\n",
       "      <td>NaN</td>\n",
       "      <td>NaN</td>\n",
       "    </tr>\n",
       "    <tr>\n",
       "      <th>3</th>\n",
       "      <td>10878960</td>\n",
       "      <td>JA188281</td>\n",
       "      <td>01/01/2017 12:01:00 AM</td>\n",
       "      <td>009XX E 86TH ST</td>\n",
       "      <td>1754</td>\n",
       "      <td>OFFENSE INVOLVING CHILDREN</td>\n",
       "      <td>AGG SEX ASSLT OF CHILD FAM MBR</td>\n",
       "      <td>RESIDENCE</td>\n",
       "      <td>False</td>\n",
       "      <td>False</td>\n",
       "      <td>...</td>\n",
       "      <td>8</td>\n",
       "      <td>44</td>\n",
       "      <td>02</td>\n",
       "      <td>NaN</td>\n",
       "      <td>NaN</td>\n",
       "      <td>2017</td>\n",
       "      <td>03/17/2017 03:52:20 PM</td>\n",
       "      <td>NaN</td>\n",
       "      <td>NaN</td>\n",
       "      <td>NaN</td>\n",
       "    </tr>\n",
       "    <tr>\n",
       "      <th>4</th>\n",
       "      <td>10878804</td>\n",
       "      <td>JA187911</td>\n",
       "      <td>01/01/2017 12:01:00 AM</td>\n",
       "      <td>053XX N SHERIDAN RD</td>\n",
       "      <td>1195</td>\n",
       "      <td>DECEPTIVE PRACTICE</td>\n",
       "      <td>FINAN EXPLOIT-ELDERLY/DISABLED</td>\n",
       "      <td>APARTMENT</td>\n",
       "      <td>False</td>\n",
       "      <td>False</td>\n",
       "      <td>...</td>\n",
       "      <td>48</td>\n",
       "      <td>77</td>\n",
       "      <td>11</td>\n",
       "      <td>NaN</td>\n",
       "      <td>NaN</td>\n",
       "      <td>2017</td>\n",
       "      <td>03/16/2017 03:53:03 PM</td>\n",
       "      <td>NaN</td>\n",
       "      <td>NaN</td>\n",
       "      <td>NaN</td>\n",
       "    </tr>\n",
       "  </tbody>\n",
       "</table>\n",
       "<p>5 rows × 22 columns</p>\n",
       "</div>"
      ],
      "text/plain": [
       "         ID Case Number                    Date                 Block  IUCR  \\\n",
       "0  10887077    JA196832  01/01/2017 12:01:00 AM    073XX N OAKLEY AVE  1751   \n",
       "1  10883971    JA193683  01/01/2017 12:01:00 AM      0000X E 103RD PL  0281   \n",
       "2  10883969    JA193696  01/01/2017 12:01:00 AM  075XX S KINGSTON AVE  1751   \n",
       "3  10878960    JA188281  01/01/2017 12:01:00 AM       009XX E 86TH ST  1754   \n",
       "4  10878804    JA187911  01/01/2017 12:01:00 AM   053XX N SHERIDAN RD  1195   \n",
       "\n",
       "                 Primary Type                     Description  \\\n",
       "0  OFFENSE INVOLVING CHILDREN    CRIM SEX ABUSE BY FAM MEMBER   \n",
       "1         CRIM SEXUAL ASSAULT                  NON-AGGRAVATED   \n",
       "2  OFFENSE INVOLVING CHILDREN    CRIM SEX ABUSE BY FAM MEMBER   \n",
       "3  OFFENSE INVOLVING CHILDREN  AGG SEX ASSLT OF CHILD FAM MBR   \n",
       "4          DECEPTIVE PRACTICE  FINAN EXPLOIT-ELDERLY/DISABLED   \n",
       "\n",
       "  Location Description  Arrest  Domestic    ...     Ward  Community Area  \\\n",
       "0            RESIDENCE   False     False    ...       49               2   \n",
       "1            RESIDENCE   False     False    ...        9              49   \n",
       "2            APARTMENT   False     False    ...        7              43   \n",
       "3            RESIDENCE   False     False    ...        8              44   \n",
       "4            APARTMENT   False     False    ...       48              77   \n",
       "\n",
       "   FBI Code  X Coordinate Y Coordinate  Year              Updated On  \\\n",
       "0        20           NaN          NaN  2017  03/23/2017 03:53:53 PM   \n",
       "1        02           NaN          NaN  2017  03/21/2017 03:50:39 PM   \n",
       "2        20           NaN          NaN  2017  03/21/2017 03:50:39 PM   \n",
       "3        02           NaN          NaN  2017  03/17/2017 03:52:20 PM   \n",
       "4        11           NaN          NaN  2017  03/16/2017 03:53:03 PM   \n",
       "\n",
       "   Latitude Longitude  Location  \n",
       "0       NaN       NaN       NaN  \n",
       "1       NaN       NaN       NaN  \n",
       "2       NaN       NaN       NaN  \n",
       "3       NaN       NaN       NaN  \n",
       "4       NaN       NaN       NaN  \n",
       "\n",
       "[5 rows x 22 columns]"
      ]
     },
     "execution_count": 4,
     "metadata": {},
     "output_type": "execute_result"
    }
   ],
   "source": [
    "chicago_crime.head()"
   ]
  },
  {
   "cell_type": "code",
   "execution_count": 5,
   "metadata": {
    "collapsed": false
   },
   "outputs": [],
   "source": [
    "# Remove the null values \n",
    "chicago_crime.dropna(inplace=True, axis=0)"
   ]
  },
  {
   "cell_type": "code",
   "execution_count": 6,
   "metadata": {
    "collapsed": true
   },
   "outputs": [],
   "source": [
    "# Change the format of the 'Primary Type' and 'Date' fields\n",
    "chicago_crime['Primary Type'] = chicago_crime['Primary Type'].astype('category', ordered=False)\n",
    "chicago_crime['Date'] = pd.to_datetime(chicago_crime['Date'].str[0:10], format='%m/%d/%Y')"
   ]
  },
  {
   "cell_type": "markdown",
   "metadata": {},
   "source": [
    "### Question 1 - What are the top 12 most common crimes of the period?"
   ]
  },
  {
   "cell_type": "code",
   "execution_count": 7,
   "metadata": {
    "collapsed": true
   },
   "outputs": [],
   "source": [
    "gr_by_crime_type = chicago_crime[['Primary Type', 'Block']].groupby('Primary Type').agg('count')\n",
    "gr_by_crime_type.reset_index(inplace=True)\n",
    "gr_by_crime_type.columns = [\"Crime Type\", \"Quantity\"]\n",
    "gr_by_crime_type.sort_values(by='Quantity', ascending=False, inplace=True)"
   ]
  },
  {
   "cell_type": "code",
   "execution_count": 8,
   "metadata": {
    "collapsed": false
   },
   "outputs": [
    {
     "data": {
      "text/plain": [
       "28                  THEFT\n",
       "2                 BATTERY\n",
       "6         CRIMINAL DAMAGE\n",
       "21          OTHER OFFENSE\n",
       "1                 ASSAULT\n",
       "8      DECEPTIVE PRACTICE\n",
       "3                BURGLARY\n",
       "15    MOTOR VEHICLE THEFT\n",
       "25                ROBBERY\n",
       "16              NARCOTICS\n",
       "7       CRIMINAL TRESPASS\n",
       "29      WEAPONS VIOLATION\n",
       "Name: Crime Type, dtype: category\n",
       "Categories (30, object): [ARSON, ASSAULT, BATTERY, BURGLARY, ..., SEX OFFENSE, STALKING, THEFT, WEAPONS VIOLATION]"
      ]
     },
     "execution_count": 8,
     "metadata": {},
     "output_type": "execute_result"
    }
   ],
   "source": [
    "top_12_crimes = gr_by_crime_type['Crime Type'][0:12]\n",
    "top_12_crimes"
   ]
  },
  {
   "cell_type": "code",
   "execution_count": 9,
   "metadata": {
    "collapsed": false
   },
   "outputs": [
    {
     "data": {
      "image/png": "[encoded data removed]",
      "text/plain": [
       "<matplotlib.figure.Figure at 0x110a16e10>"
      ]
     },
     "metadata": {},
     "output_type": "display_data"
    }
   ],
   "source": [
    "top_12_crimes_bar = gr_by_crime_type[0:12]\n",
    "top_12_crimes_bar.head()\n",
    "sns.barplot(data=top_12_crimes_bar, x='Crime Type', y='Quantity',order=top_12_crimes_bar['Crime Type'])\n",
    "plt.xticks(rotation=90)\n",
    "plt.show()"
   ]
  },
  {
   "cell_type": "markdown",
   "metadata": {},
   "source": [
    "### Question 2 - What are the crime types that have median above 50 crimes/day?"
   ]
  },
  {
   "cell_type": "code",
   "execution_count": 10,
   "metadata": {
    "collapsed": false
   },
   "outputs": [
    {
     "data": {
      "text/html": [
       "<div>\n",
       "<style>\n",
       "    .dataframe thead tr:only-child th {\n",
       "        text-align: right;\n",
       "    }\n",
       "\n",
       "    .dataframe thead th {\n",
       "        text-align: left;\n",
       "    }\n",
       "\n",
       "    .dataframe tbody tr th {\n",
       "        vertical-align: top;\n",
       "    }\n",
       "</style>\n",
       "<table border=\"1\" class=\"dataframe\">\n",
       "  <thead>\n",
       "    <tr style=\"text-align: right;\">\n",
       "      <th></th>\n",
       "      <th>CrimeType</th>\n",
       "      <th>Date</th>\n",
       "      <th>Count</th>\n",
       "    </tr>\n",
       "  </thead>\n",
       "  <tbody>\n",
       "    <tr>\n",
       "      <th>0</th>\n",
       "      <td>ARSON</td>\n",
       "      <td>2017-01-01</td>\n",
       "      <td>NaN</td>\n",
       "    </tr>\n",
       "    <tr>\n",
       "      <th>1</th>\n",
       "      <td>ARSON</td>\n",
       "      <td>2017-01-02</td>\n",
       "      <td>3.0</td>\n",
       "    </tr>\n",
       "    <tr>\n",
       "      <th>2</th>\n",
       "      <td>ARSON</td>\n",
       "      <td>2017-01-03</td>\n",
       "      <td>1.0</td>\n",
       "    </tr>\n",
       "    <tr>\n",
       "      <th>3</th>\n",
       "      <td>ARSON</td>\n",
       "      <td>2017-01-04</td>\n",
       "      <td>1.0</td>\n",
       "    </tr>\n",
       "    <tr>\n",
       "      <th>4</th>\n",
       "      <td>ARSON</td>\n",
       "      <td>2017-01-05</td>\n",
       "      <td>NaN</td>\n",
       "    </tr>\n",
       "  </tbody>\n",
       "</table>\n",
       "</div>"
      ],
      "text/plain": [
       "  CrimeType       Date  Count\n",
       "0     ARSON 2017-01-01    NaN\n",
       "1     ARSON 2017-01-02    3.0\n",
       "2     ARSON 2017-01-03    1.0\n",
       "3     ARSON 2017-01-04    1.0\n",
       "4     ARSON 2017-01-05    NaN"
      ]
     },
     "execution_count": 10,
     "metadata": {},
     "output_type": "execute_result"
    }
   ],
   "source": [
    "grp_by_day = chicago_crime[['Primary Type','Date','Block']].groupby(['Primary Type','Date']).agg('count')\n",
    "grp_by_day.reset_index(inplace=True)\n",
    "grp_by_day.columns =['CrimeType', 'Date', 'Count']\n",
    "grp_by_day.head()"
   ]
  },
  {
   "cell_type": "code",
   "execution_count": 11,
   "metadata": {
    "collapsed": false
   },
   "outputs": [
    {
     "data": {
      "text/plain": [
       "[ASSAULT, BATTERY, BURGLARY, CRIMINAL DAMAGE, CRIMINAL TRESPASS, ..., NARCOTICS, OTHER OFFENSE, ROBBERY, THEFT, WEAPONS VIOLATION]\n",
       "Length: 12\n",
       "Categories (12, object): [ASSAULT, BATTERY, BURGLARY, CRIMINAL DAMAGE, ..., OTHER OFFENSE, ROBBERY, THEFT, WEAPONS VIOLATION]"
      ]
     },
     "execution_count": 11,
     "metadata": {},
     "output_type": "execute_result"
    }
   ],
   "source": [
    "grp_by_day = grp_by_day[grp_by_day['CrimeType'].isin(np.asarray(top_12_crimes_bar['Crime Type']))]\n",
    "grp_by_day['CrimeType'].unique()"
   ]
  },
  {
   "cell_type": "code",
   "execution_count": 13,
   "metadata": {
    "collapsed": false
   },
   "outputs": [
    {
     "data": {
      "image/png": "[encoded data removed]",
      "text/plain": [
       "<matplotlib.figure.Figure at 0x110a667f0>"
      ]
     },
     "metadata": {},
     "output_type": "display_data"
    }
   ],
   "source": [
    "grp_by_day = grp_by_day[grp_by_day.CrimeType.isin(np.asarray(top_12_crimes))]\n",
    "style.use('fivethirtyeight')\n",
    "sns.boxplot(data=grp_by_day, x='CrimeType', y='Count')\n",
    "plt.xticks(rotation=90)\n",
    "plt.show()"
   ]
  },
  {
   "cell_type": "markdown",
   "metadata": {},
   "source": [
    "The crimes that have a media of more than 50 times a day are \"Theft\", \"Battery\" and \"Criminal Damage\". "
   ]
  },
  {
   "cell_type": "markdown",
   "metadata": {},
   "source": [
    "### Question 3: For each crime type identified in the last question, use the latitude and longitude into a KDE plot, to analyse its spread."
   ]
  },
  {
   "cell_type": "code",
   "execution_count": 14,
   "metadata": {
    "collapsed": false
   },
   "outputs": [],
   "source": [
    "theft = chicago_crime[['Latitude','Longitude']][chicago_crime['Primary Type']== 'THEFT']\n",
    "battery = chicago_crime[['Latitude','Longitude']][chicago_crime['Primary Type']== 'BATTERY']\n",
    "criminal_damage = chicago_crime[['Latitude','Longitude']][chicago_crime['Primary Type']== 'CRIMINAL DAMAGE']"
   ]
  },
  {
   "cell_type": "code",
   "execution_count": 15,
   "metadata": {
    "collapsed": false
   },
   "outputs": [],
   "source": [
    "f, ax = plt.subplots(figsize=(8,8))\n",
    "ax.set_aspect('equal')\n",
    "ax = sns.kdeplot(theft.Latitude, theft.Longitude, cmap='Reds', shade=True, shade_lowest=False)"
   ]
  },
  {
   "cell_type": "code",
   "execution_count": 16,
   "metadata": {
    "collapsed": false
   },
   "outputs": [],
   "source": [
    "f, ax = plt.subplots(figsize=(8,8))\n",
    "ax.set_aspect('equal')\n",
    "ax = sns.kdeplot(battery.Latitude, battery.Longitude, cmap='Blues', shade=True, shade_lowest=False)"
   ]
  },
  {
   "cell_type": "code",
   "execution_count": 17,
   "metadata": {
    "collapsed": false
   },
   "outputs": [],
   "source": [
    "f, ax = plt.subplots(figsize=(8,8))\n",
    "ax.set_aspect('equal')\n",
    "ax = sns.kdeplot(criminal_damage.Latitude, criminal_damage.Longitude, cmap='Greens', shade=True, shade_lowest=False)"
   ]
  },
  {
   "cell_type": "markdown",
   "metadata": {},
   "source": [
    "### Question 4: For each crime type plotted into KDE, discover the mean of the coordinates (latitude and longitude)."
   ]
  },
  {
   "cell_type": "code",
   "execution_count": 18,
   "metadata": {
    "collapsed": true
   },
   "outputs": [],
   "source": [
    "theft_lat_mean = theft.Latitude.mean()\n",
    "theft_long_mean = theft.Longitude.mean()\n",
    "battery_lat_mean = battery.Latitude.mean()\n",
    "battery_long_mean = battery.Longitude.mean()\n",
    "criminal_damage_lat_mean = criminal_damage.Latitude.mean()\n",
    "criminal_damage_long_mean = criminal_damage.Longitude.mean()"
   ]
  },
  {
   "cell_type": "code",
   "execution_count": 19,
   "metadata": {
    "collapsed": false
   },
   "outputs": [
    {
     "name": "stdout",
     "output_type": "stream",
     "text": [
      "Theft coordinates: (41.862720,-87.667282)\n",
      "Battery coordinates: (41.831977,-87.668571)\n",
      "Criminal damage coordinates: (41.837694,-87.673674)\n"
     ]
    }
   ],
   "source": [
    "print(\"Theft coordinates: ({:f},{:f})\".format(theft_lat_mean, theft_long_mean))\n",
    "print(\"Battery coordinates: ({:f},{:f})\".format(battery_lat_mean, battery_long_mean))\n",
    "print(\"Criminal damage coordinates: ({:f},{:f})\".format(criminal_damage_lat_mean, criminal_damage_long_mean))"
   ]
  },
  {
   "cell_type": "code",
   "execution_count": null,
   "metadata": {
    "collapsed": true
   },
   "outputs": [],
   "source": []
  }
 ],
 "metadata": {
  "kernelspec": {
   "display_name": "Python 3",
   "language": "python",
   "name": "python3"
  },
  "language_info": {
   "codemirror_mode": {
    "name": "ipython",
    "version": 3
   },
   "file_extension": ".py",
   "mimetype": "text/x-python",
   "name": "python",
   "nbconvert_exporter": "python",
   "pygments_lexer": "ipython3",
   "version": "3.5.2"
  }
 },
 "nbformat": 4,
 "nbformat_minor": 0
}
